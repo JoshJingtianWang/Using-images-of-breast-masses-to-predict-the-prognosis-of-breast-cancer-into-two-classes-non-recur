{
  "nbformat": 4,
  "nbformat_minor": 0,
  "metadata": {
    "colab": {
      "name": "module 6.ipynb",
      "provenance": [],
      "authorship_tag": "ABX9TyMxNvx59xsahVSi9csaCWjK",
      "include_colab_link": true
    },
    "kernelspec": {
      "name": "python3",
      "display_name": "Python 3"
    },
    "language_info": {
      "name": "python"
    }
  },
  "cells": [
    {
      "cell_type": "markdown",
      "metadata": {
        "id": "view-in-github",
        "colab_type": "text"
      },
      "source": [
        "<a href=\"https://colab.research.google.com/github/JoshJingtianWang/Using-images-of-breast-masses-to-predict-the-prognosis-of-breast-cancer-into-two-classes-non-recur/blob/main/randomforest.ipynb\" target=\"_parent\"><img src=\"https://colab.research.google.com/assets/colab-badge.svg\" alt=\"Open In Colab\"/></a>"
      ]
    },
    {
      "cell_type": "code",
      "metadata": {
        "colab": {
          "base_uri": "https://localhost:8080/"
        },
        "id": "mBNv7pVyMG9C",
        "outputId": "e7fc3929-0197-44bb-8d07-e83dfac9fe33"
      },
      "source": [
        "from google.colab import drive \n",
        "drive.mount('/content/drive')\n",
        "!pwd"
      ],
      "execution_count": null,
      "outputs": [
        {
          "output_type": "stream",
          "name": "stdout",
          "text": [
            "Mounted at /content/drive\n",
            "/content\n"
          ]
        }
      ]
    },
    {
      "cell_type": "code",
      "metadata": {
        "colab": {
          "base_uri": "https://localhost:8080/",
          "height": 35
        },
        "id": "DVYNHSl-MJh-",
        "outputId": "ddf64aee-0876-4921-fa62-1216d3765ca8"
      },
      "source": [
        "import os\n",
        "os.getcwd()"
      ],
      "execution_count": null,
      "outputs": [
        {
          "output_type": "execute_result",
          "data": {
            "application/vnd.google.colaboratory.intrinsic+json": {
              "type": "string"
            },
            "text/plain": [
              "'/content'"
            ]
          },
          "metadata": {},
          "execution_count": 3
        }
      ]
    },
    {
      "cell_type": "code",
      "metadata": {
        "id": "cf9nSc07MLDW"
      },
      "source": [
        "os.chdir('/content/drive/MyDrive/Spitale Lab/Fundamentals_of_Data_Science/module 6')"
      ],
      "execution_count": null,
      "outputs": []
    },
    {
      "cell_type": "code",
      "metadata": {
        "colab": {
          "base_uri": "https://localhost:8080/"
        },
        "id": "LpBYvIT8MM9s",
        "outputId": "adc58b0b-71c8-4334-dbf4-bfc7745208d4"
      },
      "source": [
        "!pwd"
      ],
      "execution_count": null,
      "outputs": [
        {
          "output_type": "stream",
          "name": "stdout",
          "text": [
            "/content/drive/MyDrive/Spitale Lab/Fundamentals_of_Data_Science/module 6\n"
          ]
        }
      ]
    },
    {
      "cell_type": "code",
      "metadata": {
        "id": "fmkY53gPMN7J"
      },
      "source": [
        "#import necessary libraries\n",
        "import pandas as pd\n",
        "import numpy as np\n",
        "import matplotlib.pyplot as plt\n",
        "%matplotlib inline\n",
        "\n",
        "from sklearn import svm, datasets\n",
        "from sklearn import metrics\n",
        "from sklearn.model_selection import train_test_split\n",
        "#from sklearn.datasets import load_breast_cancer"
      ],
      "execution_count": null,
      "outputs": []
    },
    {
      "cell_type": "code",
      "metadata": {
        "id": "0pTi3MS6OPpR"
      },
      "source": [
        "#read data\n",
        "#manually adding header since it's not included in data\n",
        "dataset=pd.read_csv('wpbc.data',names=['ID Number', 'Outcome', 'Time', 'Mean radius', 'Mean texture', 'Mean perimeter', \n",
        "                                       'Mean area', 'Mean smoothness', 'Mean compactness', 'Mean concavity', 'Mean concave points', \n",
        "                                       'Mean symmetry', 'Mean fractal dimension', 'radius SE', 'texture SE', 'perimeter SE', 'area SE', \n",
        "                                       'smoothness SE', 'compactness SE', 'concavity SE', 'concave points SE', 'symmetry SE', \n",
        "                                       'fractal dimension SE', 'Worst radius', 'Worst texture', 'Worst area', 'Worst perimeter', \n",
        "                                       'Worst smoothness', 'Worst compactness', 'Worst concavity', 'Worst concave points', \n",
        "                                       'Worst symmetry', 'Worst fractal dimension', 'Tumor size', 'Lymph node status'])"
      ],
      "execution_count": null,
      "outputs": []
    },
    {
      "cell_type": "code",
      "metadata": {
        "colab": {
          "base_uri": "https://localhost:8080/"
        },
        "id": "Rp-oT45-OQKW",
        "outputId": "445a9b4a-002d-4c3b-d740-407ec1f2389a"
      },
      "source": [
        "dataset.shape"
      ],
      "execution_count": null,
      "outputs": [
        {
          "output_type": "execute_result",
          "data": {
            "text/plain": [
              "(198, 35)"
            ]
          },
          "metadata": {},
          "execution_count": 7
        }
      ]
    },
    {
      "cell_type": "code",
      "metadata": {
        "id": "DerUYLAkOR2R"
      },
      "source": [
        "dataset.head()"
      ],
      "execution_count": null,
      "outputs": []
    },
    {
      "cell_type": "code",
      "metadata": {
        "colab": {
          "base_uri": "https://localhost:8080/",
          "height": 473
        },
        "id": "urNlcNUxOTJK",
        "outputId": "e8e74e3f-8be4-4bb9-c1af-35dff6a892d2"
      },
      "source": [
        "dataset['Worst symmetry']\n",
        "plt.hist(dataset['Worst symmetry'], color = 'blue', edgecolor = 'black',\n",
        "         bins = int(180/5))"
      ],
      "execution_count": null,
      "outputs": [
        {
          "output_type": "execute_result",
          "data": {
            "text/plain": [
              "(array([ 2.,  0.,  1.,  2.,  5.,  9.,  8., 15., 23., 18., 18., 16., 17.,\n",
              "        12.,  9.,  9.,  3.,  7.,  2.,  6.,  2.,  1.,  7.,  2.,  0.,  1.,\n",
              "         0.,  0.,  1.,  1.,  0.,  0.,  0.,  0.,  0.,  1.]),\n",
              " array([0.1565    , 0.17059167, 0.18468333, 0.198775  , 0.21286667,\n",
              "        0.22695833, 0.24105   , 0.25514167, 0.26923333, 0.283325  ,\n",
              "        0.29741667, 0.31150833, 0.3256    , 0.33969167, 0.35378333,\n",
              "        0.367875  , 0.38196667, 0.39605833, 0.41015   , 0.42424167,\n",
              "        0.43833333, 0.452425  , 0.46651667, 0.48060833, 0.4947    ,\n",
              "        0.50879167, 0.52288333, 0.536975  , 0.55106667, 0.56515833,\n",
              "        0.57925   , 0.59334167, 0.60743333, 0.621525  , 0.63561667,\n",
              "        0.64970833, 0.6638    ]),\n",
              " <a list of 36 Patch objects>)"
            ]
          },
          "metadata": {},
          "execution_count": 8
        },
        {
          "output_type": "display_data",
          "data": {
            "image/png": "[encoded data removed]",
            "text/plain": [
              "<Figure size 432x288 with 1 Axes>"
            ]
          },
          "metadata": {
            "needs_background": "light"
          }
        }
      ]
    },
    {
      "cell_type": "code",
      "metadata": {
        "id": "0NNen1e-WDQ7",
        "colab": {
          "base_uri": "https://localhost:8080/"
        },
        "outputId": "61dc5105-1d2d-429d-c452-e439c0fbd9da"
      },
      "source": [
        "dataset['Lymph node status'].value_counts()"
      ],
      "execution_count": null,
      "outputs": [
        {
          "output_type": "execute_result",
          "data": {
            "text/plain": [
              "0     87\n",
              "1     35\n",
              "2     17\n",
              "4     10\n",
              "13     6\n",
              "7      6\n",
              "9      4\n",
              "3      4\n",
              "?      4\n",
              "15     3\n",
              "11     3\n",
              "6      3\n",
              "27     2\n",
              "8      2\n",
              "10     2\n",
              "20     2\n",
              "5      2\n",
              "16     1\n",
              "14     1\n",
              "17     1\n",
              "21     1\n",
              "24     1\n",
              "18     1\n",
              "Name: Lymph node status, dtype: int64"
            ]
          },
          "metadata": {},
          "execution_count": 9
        }
      ]
    },
    {
      "cell_type": "code",
      "metadata": {
        "id": "p2zLGtRbWE7r"
      },
      "source": [
        "dataset['Lymph node status'].replace({\"?\": 0}, inplace=True)"
      ],
      "execution_count": null,
      "outputs": []
    },
    {
      "cell_type": "code",
      "metadata": {
        "id": "BX1Gxw8bWGkr"
      },
      "source": [
        "X = dataset.drop(['ID Number','Outcome','Time'], axis=1)\n",
        "y = dataset['Outcome']"
      ],
      "execution_count": null,
      "outputs": []
    },
    {
      "cell_type": "code",
      "metadata": {
        "id": "2NtFQqHfWJfy"
      },
      "source": [
        "from sklearn.model_selection import train_test_split\n",
        "X_train, X_test, y_train, y_test = train_test_split(X, y, test_size=0.30)"
      ],
      "execution_count": null,
      "outputs": []
    },
    {
      "cell_type": "code",
      "metadata": {
        "id": "vyPvSaQjWNG9"
      },
      "source": [
        "from sklearn.ensemble import RandomForestClassifier\n",
        "classifier = RandomForestClassifier(n_jobs=2, random_state=0)\n",
        "\n",
        "clf=classifier.fit(X_train, y_train)\n",
        "y_pred=clf.predict(X_test)"
      ],
      "execution_count": null,
      "outputs": []
    },
    {
      "cell_type": "code",
      "metadata": {
        "colab": {
          "base_uri": "https://localhost:8080/"
        },
        "id": "MXhqspXJjh79",
        "outputId": "db81658b-1710-4d77-e251-10a19e5a7ccf"
      },
      "source": [
        "print(\"Accuracy\", metrics.accuracy_score(y_test,y_pred))"
      ],
      "execution_count": null,
      "outputs": [
        {
          "output_type": "stream",
          "name": "stdout",
          "text": [
            "Accuracy 0.7333333333333333\n"
          ]
        }
      ]
    },
    {
      "cell_type": "code",
      "metadata": {
        "colab": {
          "base_uri": "https://localhost:8080/"
        },
        "id": "z0TcNYtXbbBk",
        "outputId": "26b3ec9a-f90d-48f5-8496-9be4c965e28f"
      },
      "source": [
        "print(metrics.classification_report(y_test, y_pred))"
      ],
      "execution_count": null,
      "outputs": [
        {
          "output_type": "stream",
          "name": "stdout",
          "text": [
            "              precision    recall  f1-score   support\n",
            "\n",
            "           N       0.75      0.96      0.84        45\n",
            "           R       0.33      0.07      0.11        15\n",
            "\n",
            "    accuracy                           0.73        60\n",
            "   macro avg       0.54      0.51      0.48        60\n",
            "weighted avg       0.65      0.73      0.66        60\n",
            "\n"
          ]
        }
      ]
    },
    {
      "cell_type": "code",
      "metadata": {
        "id": "Ao62O4PPgOZs"
      },
      "source": [
        "clf.predict_proba(X_test)"
      ],
      "execution_count": null,
      "outputs": []
    },
    {
      "cell_type": "code",
      "metadata": {
        "colab": {
          "base_uri": "https://localhost:8080/",
          "height": 295
        },
        "id": "LVNXWt3xjw8t",
        "outputId": "60b82b48-89ab-4b47-8c67-afed2eef9673"
      },
      "source": [
        "plt.title('Receiver Operating Characteristic')\n",
        "y_pred_proba = clf.predict_proba(X_test)[::,1]\n",
        "fpr, tpr, _ = metrics.roc_curve(y_test, y_pred_proba,pos_label='R')\n",
        "auc = metrics.roc_auc_score(y_test, y_pred_proba)\n",
        "plt.plot(fpr, tpr, label='data 1, auc='+str(auc))\n",
        "plt.legend(loc=4)\n",
        "plt.ylabel('True Postive Rate')\n",
        "plt.xlabel('False Postive Rate')\n",
        "plt.show()"
      ],
      "execution_count": null,
      "outputs": [
        {
          "output_type": "display_data",
          "data": {
            "image/png": "[encoded data removed]",
            "text/plain": [
              "<Figure size 432x288 with 1 Axes>"
            ]
          },
          "metadata": {
            "needs_background": "light"
          }
        }
      ]
    }
  ]
}